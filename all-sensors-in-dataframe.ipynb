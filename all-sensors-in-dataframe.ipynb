{
 "cells": [
  {
   "cell_type": "code",
   "execution_count": 4,
   "metadata": {
    "collapsed": false
   },
   "outputs": [
    {
     "ename": "KeyError",
     "evalue": "'things'",
     "output_type": "error",
     "traceback": [
      "\u001b[0;31m---------------------------------------------------------------------------\u001b[0m",
      "\u001b[0;31mKeyError\u001b[0m                                  Traceback (most recent call last)",
      "\u001b[0;32m<ipython-input-4-943428c34325>\u001b[0m in \u001b[0;36m<module>\u001b[0;34m()\u001b[0m\n\u001b[1;32m     12\u001b[0m \u001b[0mheaders\u001b[0m \u001b[0;34m=\u001b[0m \u001b[0;34m{\u001b[0m\u001b[0;34m'Authorization'\u001b[0m\u001b[0;34m:\u001b[0m \u001b[0;34m'ApiKey {api_key}'\u001b[0m\u001b[0;34m.\u001b[0m\u001b[0mformat\u001b[0m\u001b[0;34m(\u001b[0m\u001b[0mapi_key\u001b[0m\u001b[0;34m=\u001b[0m\u001b[0mapi_key\u001b[0m\u001b[0;34m)\u001b[0m\u001b[0;34m}\u001b[0m\u001b[0;34m\u001b[0m\u001b[0m\n\u001b[1;32m     13\u001b[0m \u001b[0mjsonData\u001b[0m \u001b[0;34m=\u001b[0m \u001b[0mrequests\u001b[0m\u001b[0;34m.\u001b[0m\u001b[0mget\u001b[0m\u001b[0;34m(\u001b[0m\u001b[0murl\u001b[0m\u001b[0;34m,\u001b[0m \u001b[0mheaders\u001b[0m\u001b[0;34m=\u001b[0m\u001b[0mheaders\u001b[0m\u001b[0;34m)\u001b[0m\u001b[0;34m.\u001b[0m\u001b[0mjson\u001b[0m\u001b[0;34m(\u001b[0m\u001b[0;34m)\u001b[0m\u001b[0;34m\u001b[0m\u001b[0m\n\u001b[0;32m---> 14\u001b[0;31m \u001b[0mnormalized\u001b[0m \u001b[0;34m=\u001b[0m \u001b[0mpd\u001b[0m\u001b[0;34m.\u001b[0m\u001b[0mio\u001b[0m\u001b[0;34m.\u001b[0m\u001b[0mjson\u001b[0m\u001b[0;34m.\u001b[0m\u001b[0mjson_normalize\u001b[0m\u001b[0;34m(\u001b[0m\u001b[0mjsonData\u001b[0m\u001b[0;34m[\u001b[0m\u001b[0;34m'things'\u001b[0m\u001b[0;34m]\u001b[0m\u001b[0;34m)\u001b[0m\u001b[0;34m\u001b[0m\u001b[0m\n\u001b[0m\u001b[1;32m     15\u001b[0m \u001b[0mdf\u001b[0m \u001b[0;34m=\u001b[0m \u001b[0mpd\u001b[0m\u001b[0;34m.\u001b[0m\u001b[0mDataFrame\u001b[0m\u001b[0;34m.\u001b[0m\u001b[0mfrom_dict\u001b[0m\u001b[0;34m(\u001b[0m\u001b[0mnormalized\u001b[0m\u001b[0;34m)\u001b[0m\u001b[0;34m\u001b[0m\u001b[0m\n\u001b[1;32m     16\u001b[0m \u001b[0mdf\u001b[0m\u001b[0;34m.\u001b[0m\u001b[0mset_index\u001b[0m\u001b[0;34m(\u001b[0m\u001b[0;34m'id'\u001b[0m\u001b[0;34m,\u001b[0m \u001b[0minplace\u001b[0m\u001b[0;34m=\u001b[0m\u001b[0;32mTrue\u001b[0m\u001b[0;34m)\u001b[0m\u001b[0;34m\u001b[0m\u001b[0m\n",
      "\u001b[0;31mKeyError\u001b[0m: 'things'"
     ]
    }
   ],
   "source": [
    "%matplotlib inline\n",
    "import requests\n",
    "import pandas as pd\n",
    "import io\n",
    "import json\n",
    "\n",
    "\n",
    "api_key = '<yourkey>'\n",
    "\n",
    "\n",
    "url = \"https://api.disruptive-technologies.com/v1/things\"\n",
    "headers = {'Authorization': 'ApiKey {api_key}'.format(api_key=api_key)}\n",
    "jsonData = requests.get(url, headers=headers).json()\n",
    "normalized = pd.io.json.json_normalize(jsonData['things'])\n",
    "df = pd.DataFrame.from_dict(normalized)\n",
    "df.set_index('id', inplace=True)"
   ]
  },
  {
   "cell_type": "markdown",
   "metadata": {},
   "source": [
    "Showing the first couple of rows"
   ]
  },
  {
   "cell_type": "code",
   "execution_count": 2,
   "metadata": {
    "collapsed": false
   },
   "outputs": [
    {
     "data": {
      "text/html": [
       "<div>\n",
       "<table border=\"1\" class=\"dataframe\">\n",
       "  <thead>\n",
       "    <tr style=\"text-align: right;\">\n",
       "      <th></th>\n",
       "      <th>description</th>\n",
       "      <th>firmware</th>\n",
       "      <th>last_updated</th>\n",
       "      <th>name</th>\n",
       "      <th>registered</th>\n",
       "      <th>starred</th>\n",
       "      <th>state.id</th>\n",
       "      <th>state.properties.battery_percentage</th>\n",
       "      <th>state.properties.battery_voltage</th>\n",
       "      <th>state.properties.connector_id</th>\n",
       "      <th>...</th>\n",
       "      <th>state.properties.rssi</th>\n",
       "      <th>state.properties.rssi_strength</th>\n",
       "      <th>state.properties.temperature</th>\n",
       "      <th>state.properties.touch</th>\n",
       "      <th>state.updated</th>\n",
       "      <th>type.chart_type</th>\n",
       "      <th>type.icon</th>\n",
       "      <th>type.id</th>\n",
       "      <th>type.name</th>\n",
       "      <th>type.primary</th>\n",
       "    </tr>\n",
       "    <tr>\n",
       "      <th>id</th>\n",
       "      <th></th>\n",
       "      <th></th>\n",
       "      <th></th>\n",
       "      <th></th>\n",
       "      <th></th>\n",
       "      <th></th>\n",
       "      <th></th>\n",
       "      <th></th>\n",
       "      <th></th>\n",
       "      <th></th>\n",
       "      <th></th>\n",
       "      <th></th>\n",
       "      <th></th>\n",
       "      <th></th>\n",
       "      <th></th>\n",
       "      <th></th>\n",
       "      <th></th>\n",
       "      <th></th>\n",
       "      <th></th>\n",
       "      <th></th>\n",
       "      <th></th>\n",
       "    </tr>\n",
       "  </thead>\n",
       "  <tbody>\n",
       "    <tr>\n",
       "      <th>206864770</th>\n",
       "      <td></td>\n",
       "      <td></td>\n",
       "      <td>2017-06-20T11:14:55.575300856Z</td>\n",
       "      <td></td>\n",
       "      <td>2017-02-13T07:21:47.388302261Z</td>\n",
       "      <td>True</td>\n",
       "      <td>206864770</td>\n",
       "      <td>100</td>\n",
       "      <td>2.97</td>\n",
       "      <td>con-000</td>\n",
       "      <td>...</td>\n",
       "      <td>-69</td>\n",
       "      <td>5</td>\n",
       "      <td>24.0</td>\n",
       "      <td>False</td>\n",
       "      <td>2017-06-20T11:14:55.575300856Z</td>\n",
       "      <td></td>\n",
       "      <td></td>\n",
       "      <td>touch</td>\n",
       "      <td></td>\n",
       "      <td></td>\n",
       "    </tr>\n",
       "    <tr>\n",
       "      <th>206745349</th>\n",
       "      <td></td>\n",
       "      <td></td>\n",
       "      <td>2017-06-20T11:11:32.544821882Z</td>\n",
       "      <td></td>\n",
       "      <td>2017-02-06T14:03:42.040924592Z</td>\n",
       "      <td>True</td>\n",
       "      <td>206745349</td>\n",
       "      <td>100</td>\n",
       "      <td>2.97</td>\n",
       "      <td>con-000</td>\n",
       "      <td>...</td>\n",
       "      <td>-68</td>\n",
       "      <td>5</td>\n",
       "      <td>24.0</td>\n",
       "      <td>False</td>\n",
       "      <td>2017-06-20T11:11:32.544821882Z</td>\n",
       "      <td></td>\n",
       "      <td></td>\n",
       "      <td>touch</td>\n",
       "      <td></td>\n",
       "      <td></td>\n",
       "    </tr>\n",
       "    <tr>\n",
       "      <th>206744455</th>\n",
       "      <td></td>\n",
       "      <td></td>\n",
       "      <td>2017-06-20T11:10:27.445202695Z</td>\n",
       "      <td></td>\n",
       "      <td>2017-02-06T14:03:12.681973523Z</td>\n",
       "      <td>True</td>\n",
       "      <td>206744455</td>\n",
       "      <td>100</td>\n",
       "      <td>2.96</td>\n",
       "      <td>con-000</td>\n",
       "      <td>...</td>\n",
       "      <td>-69</td>\n",
       "      <td>5</td>\n",
       "      <td>24.0</td>\n",
       "      <td>False</td>\n",
       "      <td>2017-06-20T11:10:27.445202695Z</td>\n",
       "      <td></td>\n",
       "      <td></td>\n",
       "      <td>touch</td>\n",
       "      <td></td>\n",
       "      <td></td>\n",
       "    </tr>\n",
       "    <tr>\n",
       "      <th>206885895</th>\n",
       "      <td></td>\n",
       "      <td></td>\n",
       "      <td>2017-06-20T11:08:24.834988520Z</td>\n",
       "      <td></td>\n",
       "      <td>2017-02-06T14:02:23.177445934Z</td>\n",
       "      <td>True</td>\n",
       "      <td>206885895</td>\n",
       "      <td>100</td>\n",
       "      <td>2.96</td>\n",
       "      <td>con-000</td>\n",
       "      <td>...</td>\n",
       "      <td>-79</td>\n",
       "      <td>3</td>\n",
       "      <td>28.0</td>\n",
       "      <td>False</td>\n",
       "      <td>2017-06-20T11:08:24.834988520Z</td>\n",
       "      <td></td>\n",
       "      <td></td>\n",
       "      <td>touch</td>\n",
       "      <td></td>\n",
       "      <td></td>\n",
       "    </tr>\n",
       "    <tr>\n",
       "      <th>b4vbgad847ng00d7bo9g</th>\n",
       "      <td></td>\n",
       "      <td></td>\n",
       "      <td>2017-06-12T16:40:53.260514189Z</td>\n",
       "      <td>Virtual touch sensor</td>\n",
       "      <td>2017-06-12T15:50:01.085487062Z</td>\n",
       "      <td>True</td>\n",
       "      <td>b4vbgad847ng00d7bo9g</td>\n",
       "      <td>100</td>\n",
       "      <td>3.00</td>\n",
       "      <td></td>\n",
       "      <td>...</td>\n",
       "      <td>0</td>\n",
       "      <td>5</td>\n",
       "      <td>0.0</td>\n",
       "      <td>True</td>\n",
       "      <td>2017-06-12T16:40:53.260514189Z</td>\n",
       "      <td></td>\n",
       "      <td></td>\n",
       "      <td>touch</td>\n",
       "      <td></td>\n",
       "      <td></td>\n",
       "    </tr>\n",
       "  </tbody>\n",
       "</table>\n",
       "<p>5 rows × 22 columns</p>\n",
       "</div>"
      ],
      "text/plain": [
       "                     description firmware                    last_updated  \\\n",
       "id                                                                          \n",
       "206864770                                  2017-06-20T11:14:55.575300856Z   \n",
       "206745349                                  2017-06-20T11:11:32.544821882Z   \n",
       "206744455                                  2017-06-20T11:10:27.445202695Z   \n",
       "206885895                                  2017-06-20T11:08:24.834988520Z   \n",
       "b4vbgad847ng00d7bo9g                       2017-06-12T16:40:53.260514189Z   \n",
       "\n",
       "                                      name                      registered  \\\n",
       "id                                                                           \n",
       "206864770                                   2017-02-13T07:21:47.388302261Z   \n",
       "206745349                                   2017-02-06T14:03:42.040924592Z   \n",
       "206744455                                   2017-02-06T14:03:12.681973523Z   \n",
       "206885895                                   2017-02-06T14:02:23.177445934Z   \n",
       "b4vbgad847ng00d7bo9g  Virtual touch sensor  2017-06-12T15:50:01.085487062Z   \n",
       "\n",
       "                     starred              state.id  \\\n",
       "id                                                   \n",
       "206864770               True             206864770   \n",
       "206745349               True             206745349   \n",
       "206744455               True             206744455   \n",
       "206885895               True             206885895   \n",
       "b4vbgad847ng00d7bo9g    True  b4vbgad847ng00d7bo9g   \n",
       "\n",
       "                      state.properties.battery_percentage  \\\n",
       "id                                                          \n",
       "206864770                                             100   \n",
       "206745349                                             100   \n",
       "206744455                                             100   \n",
       "206885895                                             100   \n",
       "b4vbgad847ng00d7bo9g                                  100   \n",
       "\n",
       "                      state.properties.battery_voltage  \\\n",
       "id                                                       \n",
       "206864770                                         2.97   \n",
       "206745349                                         2.97   \n",
       "206744455                                         2.96   \n",
       "206885895                                         2.96   \n",
       "b4vbgad847ng00d7bo9g                              3.00   \n",
       "\n",
       "                     state.properties.connector_id     ...       \\\n",
       "id                                                     ...        \n",
       "206864770                                  con-000     ...        \n",
       "206745349                                  con-000     ...        \n",
       "206744455                                  con-000     ...        \n",
       "206885895                                  con-000     ...        \n",
       "b4vbgad847ng00d7bo9g                                   ...        \n",
       "\n",
       "                     state.properties.rssi state.properties.rssi_strength  \\\n",
       "id                                                                          \n",
       "206864770                              -69                              5   \n",
       "206745349                              -68                              5   \n",
       "206744455                              -69                              5   \n",
       "206885895                              -79                              3   \n",
       "b4vbgad847ng00d7bo9g                     0                              5   \n",
       "\n",
       "                      state.properties.temperature  state.properties.touch  \\\n",
       "id                                                                           \n",
       "206864770                                     24.0                   False   \n",
       "206745349                                     24.0                   False   \n",
       "206744455                                     24.0                   False   \n",
       "206885895                                     28.0                   False   \n",
       "b4vbgad847ng00d7bo9g                           0.0                    True   \n",
       "\n",
       "                                       state.updated type.chart_type  \\\n",
       "id                                                                     \n",
       "206864770             2017-06-20T11:14:55.575300856Z                   \n",
       "206745349             2017-06-20T11:11:32.544821882Z                   \n",
       "206744455             2017-06-20T11:10:27.445202695Z                   \n",
       "206885895             2017-06-20T11:08:24.834988520Z                   \n",
       "b4vbgad847ng00d7bo9g  2017-06-12T16:40:53.260514189Z                   \n",
       "\n",
       "                     type.icon type.id type.name type.primary  \n",
       "id                                                             \n",
       "206864770                        touch                         \n",
       "206745349                        touch                         \n",
       "206744455                        touch                         \n",
       "206885895                        touch                         \n",
       "b4vbgad847ng00d7bo9g             touch                         \n",
       "\n",
       "[5 rows x 22 columns]"
      ]
     },
     "execution_count": 2,
     "metadata": {},
     "output_type": "execute_result"
    }
   ],
   "source": [
    "df.head()"
   ]
  },
  {
   "cell_type": "code",
   "execution_count": 167,
   "metadata": {
    "collapsed": false
   },
   "outputs": [],
   "source": [
    "withoutVirtual = df[~df['name'].str.contains(\"Virtual\")]\n",
    "temperatureThings = withoutVirtual[withoutVirtual['type.id']==\"temperature\"]\n",
    "notTemperatureThings = withoutVirtual[withoutVirtual['type.id']!=\"temperature\"]"
   ]
  },
  {
   "cell_type": "markdown",
   "metadata": {},
   "source": [
    "# Temperature distribution\n",
    "\n",
    "- temp sensors in orange\n",
    "- non-temp sensors in blue"
   ]
  },
  {
   "cell_type": "code",
   "execution_count": 168,
   "metadata": {
    "collapsed": false
   },
   "outputs": [
    {
     "data": {
      "text/plain": [
       "<matplotlib.axes._subplots.AxesSubplot at 0x7fe3ba0d1a90>"
      ]
     },
     "execution_count": 168,
     "metadata": {},
     "output_type": "execute_result"
    },
    {
     "data": {
      "image/png": "[encoded data removed]",
      "text/plain": [
       "<matplotlib.figure.Figure at 0x7fe3ba00d9e8>"
      ]
     },
     "metadata": {},
     "output_type": "display_data"
    }
   ],
   "source": [
    "temperatureThings[\"state.properties.temperature\"].plot(x='Temp sensors')\n",
    "notTemperatureThings[\"state.properties.temperature\"].plot(x='Non-temp sensors')"
   ]
  },
  {
   "cell_type": "markdown",
   "metadata": {},
   "source": [
    "## Temperature standard deviations"
   ]
  },
  {
   "cell_type": "code",
   "execution_count": 169,
   "metadata": {
    "collapsed": false
   },
   "outputs": [
    {
     "name": "stdout",
     "output_type": "stream",
     "text": [
      "count    48.000000\n",
      "mean     24.388542\n",
      "std       1.975683\n",
      "min      20.000000\n",
      "25%      23.487500\n",
      "50%      24.000000\n",
      "75%      27.000000\n",
      "max      28.000000\n",
      "Name: state.properties.temperature, dtype: float64\n"
     ]
    },
    {
     "data": {
      "image/png": "[encoded data removed]",
      "text/plain": [
       "<matplotlib.figure.Figure at 0x7fe3b9fb02b0>"
      ]
     },
     "metadata": {},
     "output_type": "display_data"
    }
   ],
   "source": [
    "df_temps = withoutVirtual[\"state.properties.temperature\"]\n",
    "df_temps.plot.box(title='Spread temperature sensors')\n",
    "print(df_temps.describe())"
   ]
  },
  {
   "cell_type": "code",
   "execution_count": 170,
   "metadata": {
    "collapsed": false
   },
   "outputs": [
    {
     "name": "stdout",
     "output_type": "stream",
     "text": [
      "count    32.000000\n",
      "mean     24.750000\n",
      "std       2.314052\n",
      "min      20.000000\n",
      "25%      24.000000\n",
      "50%      24.000000\n",
      "75%      27.000000\n",
      "max      28.000000\n",
      "Name: state.properties.temperature, dtype: float64\n"
     ]
    },
    {
     "data": {
      "image/png": "[encoded data removed]",
      "text/plain": [
       "<matplotlib.figure.Figure at 0x7fe3ba590f98>"
      ]
     },
     "metadata": {},
     "output_type": "display_data"
    }
   ],
   "source": [
    "notTemperatureThings[\"state.properties.temperature\"].plot.box(title='Spread non-temperature sensors')\n",
    "print(notTemperatureThings[\"state.properties.temperature\"].describe())"
   ]
  },
  {
   "cell_type": "code",
   "execution_count": 14,
   "metadata": {
    "collapsed": false
   },
   "outputs": [
    {
     "data": {
      "text/plain": [
       "<matplotlib.axes._subplots.AxesSubplot at 0x7fc5e682db38>"
      ]
     },
     "execution_count": 14,
     "metadata": {},
     "output_type": "execute_result"
    },
    {
     "data": {
      "image/png": "[encoded data removed]",
      "text/plain": [
       "<matplotlib.figure.Figure at 0x7fc5e80c9898>"
      ]
     },
     "metadata": {},
     "output_type": "display_data"
    }
   ],
   "source": [
    "df['last_updated'] = pd.to_datetime(df['last_updated'], errors='coerce')\n",
    "df['state.properties.temperature'].plot(x='last_updated')"
   ]
  },
  {
   "cell_type": "code",
   "execution_count": 12,
   "metadata": {
    "collapsed": false
   },
   "outputs": [
    {
     "data": {
      "text/plain": [
       "<matplotlib.axes._subplots.AxesSubplot at 0x7fc5e80d79b0>"
      ]
     },
     "execution_count": 12,
     "metadata": {},
     "output_type": "execute_result"
    },
    {
     "data": {
      "image/png": "[encoded data removed]",
      "text/plain": [
       "<matplotlib.figure.Figure at 0x7fc5e80c1470>"
      ]
     },
     "metadata": {},
     "output_type": "display_data"
    }
   ],
   "source": [
    "timedf = df.set_index('last_updated')\n",
    "timedf['state.properties.battery_voltage'].plot()"
   ]
  },
  {
   "cell_type": "markdown",
   "metadata": {},
   "source": [
    "# Aggregation"
   ]
  },
  {
   "cell_type": "code",
   "execution_count": 174,
   "metadata": {
    "collapsed": false
   },
   "outputs": [
    {
     "data": {
      "text/html": [
       "<div>\n",
       "<table border=\"1\" class=\"dataframe\">\n",
       "  <thead>\n",
       "    <tr style=\"text-align: right;\">\n",
       "      <th></th>\n",
       "      <th></th>\n",
       "      <th>starred</th>\n",
       "      <th>state.properties.battery_percentage</th>\n",
       "      <th>state.properties.battery_voltage</th>\n",
       "      <th>state.properties.object_present</th>\n",
       "      <th>state.properties.rssi</th>\n",
       "      <th>state.properties.rssi_strength</th>\n",
       "      <th>state.properties.temperature</th>\n",
       "      <th>state.properties.touch</th>\n",
       "    </tr>\n",
       "    <tr>\n",
       "      <th>state.properties.connector_id</th>\n",
       "      <th>type.id</th>\n",
       "      <th></th>\n",
       "      <th></th>\n",
       "      <th></th>\n",
       "      <th></th>\n",
       "      <th></th>\n",
       "      <th></th>\n",
       "      <th></th>\n",
       "      <th></th>\n",
       "    </tr>\n",
       "  </thead>\n",
       "  <tbody>\n",
       "    <tr>\n",
       "      <th rowspan=\"2\" valign=\"top\"></th>\n",
       "      <th>temperature</th>\n",
       "      <td>0.0000</td>\n",
       "      <td>100.0</td>\n",
       "      <td>3.000000</td>\n",
       "      <td>0.0000</td>\n",
       "      <td>0.0000</td>\n",
       "      <td>5.0000</td>\n",
       "      <td>37.500000</td>\n",
       "      <td>0.0000</td>\n",
       "    </tr>\n",
       "    <tr>\n",
       "      <th>touch</th>\n",
       "      <td>0.2500</td>\n",
       "      <td>100.0</td>\n",
       "      <td>3.000000</td>\n",
       "      <td>0.0000</td>\n",
       "      <td>0.0000</td>\n",
       "      <td>5.0000</td>\n",
       "      <td>0.000000</td>\n",
       "      <td>1.0000</td>\n",
       "    </tr>\n",
       "    <tr>\n",
       "      <th rowspan=\"3\" valign=\"top\">con-000</th>\n",
       "      <th>proximity</th>\n",
       "      <td>0.0000</td>\n",
       "      <td>100.0</td>\n",
       "      <td>2.960000</td>\n",
       "      <td>0.2500</td>\n",
       "      <td>-71.5000</td>\n",
       "      <td>4.1875</td>\n",
       "      <td>24.562500</td>\n",
       "      <td>0.0000</td>\n",
       "    </tr>\n",
       "    <tr>\n",
       "      <th>temperature</th>\n",
       "      <td>0.0000</td>\n",
       "      <td>100.0</td>\n",
       "      <td>2.959375</td>\n",
       "      <td>0.0000</td>\n",
       "      <td>-77.0625</td>\n",
       "      <td>3.5000</td>\n",
       "      <td>23.665625</td>\n",
       "      <td>0.0000</td>\n",
       "    </tr>\n",
       "    <tr>\n",
       "      <th>touch</th>\n",
       "      <td>0.1875</td>\n",
       "      <td>100.0</td>\n",
       "      <td>2.963750</td>\n",
       "      <td>0.1875</td>\n",
       "      <td>-73.9375</td>\n",
       "      <td>4.0000</td>\n",
       "      <td>24.937500</td>\n",
       "      <td>0.1875</td>\n",
       "    </tr>\n",
       "  </tbody>\n",
       "</table>\n",
       "</div>"
      ],
      "text/plain": [
       "                                           starred  \\\n",
       "state.properties.connector_id type.id                \n",
       "                              temperature   0.0000   \n",
       "                              touch         0.2500   \n",
       "con-000                       proximity     0.0000   \n",
       "                              temperature   0.0000   \n",
       "                              touch         0.1875   \n",
       "\n",
       "                                           state.properties.battery_percentage  \\\n",
       "state.properties.connector_id type.id                                            \n",
       "                              temperature                                100.0   \n",
       "                              touch                                      100.0   \n",
       "con-000                       proximity                                  100.0   \n",
       "                              temperature                                100.0   \n",
       "                              touch                                      100.0   \n",
       "\n",
       "                                           state.properties.battery_voltage  \\\n",
       "state.properties.connector_id type.id                                         \n",
       "                              temperature                          3.000000   \n",
       "                              touch                                3.000000   \n",
       "con-000                       proximity                            2.960000   \n",
       "                              temperature                          2.959375   \n",
       "                              touch                                2.963750   \n",
       "\n",
       "                                           state.properties.object_present  \\\n",
       "state.properties.connector_id type.id                                        \n",
       "                              temperature                           0.0000   \n",
       "                              touch                                 0.0000   \n",
       "con-000                       proximity                             0.2500   \n",
       "                              temperature                           0.0000   \n",
       "                              touch                                 0.1875   \n",
       "\n",
       "                                           state.properties.rssi  \\\n",
       "state.properties.connector_id type.id                              \n",
       "                              temperature                 0.0000   \n",
       "                              touch                       0.0000   \n",
       "con-000                       proximity                 -71.5000   \n",
       "                              temperature               -77.0625   \n",
       "                              touch                     -73.9375   \n",
       "\n",
       "                                           state.properties.rssi_strength  \\\n",
       "state.properties.connector_id type.id                                       \n",
       "                              temperature                          5.0000   \n",
       "                              touch                                5.0000   \n",
       "con-000                       proximity                            4.1875   \n",
       "                              temperature                          3.5000   \n",
       "                              touch                                4.0000   \n",
       "\n",
       "                                           state.properties.temperature  \\\n",
       "state.properties.connector_id type.id                                     \n",
       "                              temperature                     37.500000   \n",
       "                              touch                            0.000000   \n",
       "con-000                       proximity                       24.562500   \n",
       "                              temperature                     23.665625   \n",
       "                              touch                           24.937500   \n",
       "\n",
       "                                           state.properties.touch  \n",
       "state.properties.connector_id type.id                              \n",
       "                              temperature                  0.0000  \n",
       "                              touch                        1.0000  \n",
       "con-000                       proximity                    0.0000  \n",
       "                              temperature                  0.0000  \n",
       "                              touch                        0.1875  "
      ]
     },
     "execution_count": 174,
     "metadata": {},
     "output_type": "execute_result"
    }
   ],
   "source": [
    "df.groupby(['state.properties.connector_id', 'type.id']).mean()"
   ]
  },
  {
   "cell_type": "code",
   "execution_count": 175,
   "metadata": {
    "collapsed": false
   },
   "outputs": [
    {
     "data": {
      "text/html": [
       "<div>\n",
       "<table border=\"1\" class=\"dataframe\">\n",
       "  <thead>\n",
       "    <tr style=\"text-align: right;\">\n",
       "      <th></th>\n",
       "      <th>description</th>\n",
       "      <th>firmware</th>\n",
       "      <th>last_updated</th>\n",
       "      <th>name</th>\n",
       "      <th>registered</th>\n",
       "      <th>starred</th>\n",
       "      <th>state.id</th>\n",
       "      <th>state.properties.battery_percentage</th>\n",
       "      <th>state.properties.battery_voltage</th>\n",
       "      <th>state.properties.connector_id</th>\n",
       "      <th>...</th>\n",
       "      <th>state.properties.object_present</th>\n",
       "      <th>state.properties.rssi</th>\n",
       "      <th>state.properties.rssi_strength</th>\n",
       "      <th>state.properties.temperature</th>\n",
       "      <th>state.properties.touch</th>\n",
       "      <th>state.updated</th>\n",
       "      <th>type.chart_type</th>\n",
       "      <th>type.icon</th>\n",
       "      <th>type.name</th>\n",
       "      <th>type.primary</th>\n",
       "    </tr>\n",
       "    <tr>\n",
       "      <th>type.id</th>\n",
       "      <th></th>\n",
       "      <th></th>\n",
       "      <th></th>\n",
       "      <th></th>\n",
       "      <th></th>\n",
       "      <th></th>\n",
       "      <th></th>\n",
       "      <th></th>\n",
       "      <th></th>\n",
       "      <th></th>\n",
       "      <th></th>\n",
       "      <th></th>\n",
       "      <th></th>\n",
       "      <th></th>\n",
       "      <th></th>\n",
       "      <th></th>\n",
       "      <th></th>\n",
       "      <th></th>\n",
       "      <th></th>\n",
       "      <th></th>\n",
       "      <th></th>\n",
       "    </tr>\n",
       "  </thead>\n",
       "  <tbody>\n",
       "    <tr>\n",
       "      <th>proximity</th>\n",
       "      <td></td>\n",
       "      <td></td>\n",
       "      <td>2017-06-12 14:59:53.204765683</td>\n",
       "      <td></td>\n",
       "      <td>2017-02-06T14:04:02.087722665Z</td>\n",
       "      <td>False</td>\n",
       "      <td>206882306</td>\n",
       "      <td>100</td>\n",
       "      <td>2.97</td>\n",
       "      <td>con-000</td>\n",
       "      <td>...</td>\n",
       "      <td>True</td>\n",
       "      <td>-58</td>\n",
       "      <td>5</td>\n",
       "      <td>27.0</td>\n",
       "      <td>False</td>\n",
       "      <td>2017-06-12T14:59:53.204765683Z</td>\n",
       "      <td></td>\n",
       "      <td></td>\n",
       "      <td></td>\n",
       "      <td></td>\n",
       "    </tr>\n",
       "    <tr>\n",
       "      <th>temperature</th>\n",
       "      <td>Virtual sensor</td>\n",
       "      <td></td>\n",
       "      <td>2017-06-12 14:57:23.257038715</td>\n",
       "      <td>Virtual temperature sensor</td>\n",
       "      <td>2017-06-12T08:05:17.592371260Z</td>\n",
       "      <td>False</td>\n",
       "      <td>b4v4mfd847ng00d7bo90</td>\n",
       "      <td>100</td>\n",
       "      <td>3.00</td>\n",
       "      <td>con-000</td>\n",
       "      <td>...</td>\n",
       "      <td>False</td>\n",
       "      <td>0</td>\n",
       "      <td>5</td>\n",
       "      <td>44.0</td>\n",
       "      <td>False</td>\n",
       "      <td>2017-06-12T14:57:23.257038715Z</td>\n",
       "      <td></td>\n",
       "      <td></td>\n",
       "      <td></td>\n",
       "      <td></td>\n",
       "    </tr>\n",
       "    <tr>\n",
       "      <th>touch</th>\n",
       "      <td></td>\n",
       "      <td></td>\n",
       "      <td>2017-06-12 21:13:17.692686973</td>\n",
       "      <td>Virtual touch sensor</td>\n",
       "      <td>2017-06-12T20:14:44.167591842Z</td>\n",
       "      <td>True</td>\n",
       "      <td>b4vfcd40jo2g00civgsg</td>\n",
       "      <td>100</td>\n",
       "      <td>3.00</td>\n",
       "      <td>con-000</td>\n",
       "      <td>...</td>\n",
       "      <td>True</td>\n",
       "      <td>0</td>\n",
       "      <td>5</td>\n",
       "      <td>28.0</td>\n",
       "      <td>True</td>\n",
       "      <td>2017-06-12T21:13:17.692686973Z</td>\n",
       "      <td></td>\n",
       "      <td></td>\n",
       "      <td></td>\n",
       "      <td></td>\n",
       "    </tr>\n",
       "  </tbody>\n",
       "</table>\n",
       "<p>3 rows × 21 columns</p>\n",
       "</div>"
      ],
      "text/plain": [
       "                description firmware                  last_updated  \\\n",
       "type.id                                                              \n",
       "proximity                            2017-06-12 14:59:53.204765683   \n",
       "temperature  Virtual sensor          2017-06-12 14:57:23.257038715   \n",
       "touch                                2017-06-12 21:13:17.692686973   \n",
       "\n",
       "                                   name                      registered  \\\n",
       "type.id                                                                   \n",
       "proximity                                2017-02-06T14:04:02.087722665Z   \n",
       "temperature  Virtual temperature sensor  2017-06-12T08:05:17.592371260Z   \n",
       "touch              Virtual touch sensor  2017-06-12T20:14:44.167591842Z   \n",
       "\n",
       "            starred              state.id  \\\n",
       "type.id                                     \n",
       "proximity     False             206882306   \n",
       "temperature   False  b4v4mfd847ng00d7bo90   \n",
       "touch          True  b4vfcd40jo2g00civgsg   \n",
       "\n",
       "             state.properties.battery_percentage  \\\n",
       "type.id                                            \n",
       "proximity                                    100   \n",
       "temperature                                  100   \n",
       "touch                                        100   \n",
       "\n",
       "             state.properties.battery_voltage state.properties.connector_id  \\\n",
       "type.id                                                                       \n",
       "proximity                                2.97                       con-000   \n",
       "temperature                              3.00                       con-000   \n",
       "touch                                    3.00                       con-000   \n",
       "\n",
       "                ...      state.properties.object_present  \\\n",
       "type.id         ...                                        \n",
       "proximity       ...                                 True   \n",
       "temperature     ...                                False   \n",
       "touch           ...                                 True   \n",
       "\n",
       "            state.properties.rssi  state.properties.rssi_strength  \\\n",
       "type.id                                                             \n",
       "proximity                     -58                               5   \n",
       "temperature                     0                               5   \n",
       "touch                           0                               5   \n",
       "\n",
       "             state.properties.temperature  state.properties.touch  \\\n",
       "type.id                                                             \n",
       "proximity                            27.0                   False   \n",
       "temperature                          44.0                   False   \n",
       "touch                                28.0                    True   \n",
       "\n",
       "                              state.updated type.chart_type type.icon  \\\n",
       "type.id                                                                 \n",
       "proximity    2017-06-12T14:59:53.204765683Z                             \n",
       "temperature  2017-06-12T14:57:23.257038715Z                             \n",
       "touch        2017-06-12T21:13:17.692686973Z                             \n",
       "\n",
       "            type.name type.primary  \n",
       "type.id                             \n",
       "proximity                           \n",
       "temperature                         \n",
       "touch                               \n",
       "\n",
       "[3 rows x 21 columns]"
      ]
     },
     "execution_count": 175,
     "metadata": {},
     "output_type": "execute_result"
    }
   ],
   "source": [
    "df.groupby(['type.id']).max()"
   ]
  }
 ],
 "metadata": {
  "kernelspec": {
   "display_name": "Python 3",
   "language": "python",
   "name": "python3"
  },
  "language_info": {
   "codemirror_mode": {
    "name": "ipython",
    "version": 3
   },
   "file_extension": ".py",
   "mimetype": "text/x-python",
   "name": "python",
   "nbconvert_exporter": "python",
   "pygments_lexer": "ipython3",
   "version": "3.6.0"
  }
 },
 "nbformat": 4,
 "nbformat_minor": 2
}
