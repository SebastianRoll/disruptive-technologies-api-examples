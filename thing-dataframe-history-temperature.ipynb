{
 "cells": [
  {
   "cell_type": "markdown",
   "metadata": {},
   "source": [
    "Here we request sensor history from the API and view the data in a dataframe\n",
    "\n",
    "todo: explain 'fields' in request body"
   ]
  },
  {
   "cell_type": "code",
   "execution_count": 4,
   "metadata": {
    "collapsed": false
   },
   "outputs": [
    {
     "name": "stdout",
     "output_type": "stream",
     "text": [
      "https://api.disruptive-technologies.com/v1/things/206864770/aggregate\n",
      "{'interval': '1s', 'time_period': {'start': '2017-01-01T00:01:00Z', 'end': '2099-12-31T20:00:00Z'}, 'fields': [{'name': 'temperature', 'function': 2}]}\n"
     ]
    }
   ],
   "source": [
    "%matplotlib inline\n",
    "import requests\n",
    "import pandas as pd\n",
    "import io\n",
    "import json\n",
    "\n",
    "\n",
    "api_key = '<yourkey>'\n",
    "thing_id= '<thingID>'\n",
    "\n",
    "url = \"https://api.disruptive-technologies.com/v1/things/{thing_id}/aggregate\".format(thing_id=thing_id)\n",
    "headers = {\n",
    "    'Authorization': 'ApiKey {api_key}'.format(api_key=api_key),\n",
    "    'Cache-Control': 'no-cache',\n",
    "    'Content-Type': 'application/json',\n",
    "}\n",
    "body = {}\n",
    "body['interval'] = '1s'\n",
    "body['time_period'] = {\n",
    "'start': '2017-01-01T00:01:00Z',\n",
    "'end': '2099-12-31T20:00:00Z'\n",
    "}\n",
    "body['fields'] = []\n",
    "body['fields'].append(\n",
    "{\n",
    "   'name': \"temperature\",\n",
    "   'function': 2\n",
    "}\n",
    ")\n",
    "\n",
    "print(url)\n",
    "\n",
    "print(body)"
   ]
  },
  {
   "cell_type": "code",
   "execution_count": 3,
   "metadata": {
    "collapsed": false
   },
   "outputs": [],
   "source": [
    "jsonData = requests.post(url, headers=headers, data=json.dumps(body)).json()\n",
    "normalized = pd.io.json.json_normalize(jsonData['values'])\n",
    "df = pd.DataFrame.from_dict(normalized)\n",
    "df['time'] = pd.to_datetime(df['time'], errors='coerce').fillna(0)\n",
    "df['DISTINCT_TEMPERATURE'] = pd.to_numeric(df['DISTINCT_TEMPERATURE'], errors='coerce')\n",
    "df.set_index('time', inplace=True)"
   ]
  },
  {
   "cell_type": "code",
   "execution_count": 4,
   "metadata": {
    "collapsed": false
   },
   "outputs": [
    {
     "data": {
      "text/html": [
       "<div>\n",
       "<table border=\"1\" class=\"dataframe\">\n",
       "  <thead>\n",
       "    <tr style=\"text-align: right;\">\n",
       "      <th></th>\n",
       "      <th>DISTINCT_TEMPERATURE</th>\n",
       "    </tr>\n",
       "  </thead>\n",
       "  <tbody>\n",
       "    <tr>\n",
       "      <th>count</th>\n",
       "      <td>1000.000000</td>\n",
       "    </tr>\n",
       "    <tr>\n",
       "      <th>mean</th>\n",
       "      <td>23.683000</td>\n",
       "    </tr>\n",
       "    <tr>\n",
       "      <th>std</th>\n",
       "      <td>1.032268</td>\n",
       "    </tr>\n",
       "    <tr>\n",
       "      <th>min</th>\n",
       "      <td>21.000000</td>\n",
       "    </tr>\n",
       "    <tr>\n",
       "      <th>25%</th>\n",
       "      <td>24.000000</td>\n",
       "    </tr>\n",
       "    <tr>\n",
       "      <th>50%</th>\n",
       "      <td>24.000000</td>\n",
       "    </tr>\n",
       "    <tr>\n",
       "      <th>75%</th>\n",
       "      <td>24.000000</td>\n",
       "    </tr>\n",
       "    <tr>\n",
       "      <th>max</th>\n",
       "      <td>28.000000</td>\n",
       "    </tr>\n",
       "  </tbody>\n",
       "</table>\n",
       "</div>"
      ],
      "text/plain": [
       "       DISTINCT_TEMPERATURE\n",
       "count           1000.000000\n",
       "mean              23.683000\n",
       "std                1.032268\n",
       "min               21.000000\n",
       "25%               24.000000\n",
       "50%               24.000000\n",
       "75%               24.000000\n",
       "max               28.000000"
      ]
     },
     "execution_count": 4,
     "metadata": {},
     "output_type": "execute_result"
    }
   ],
   "source": [
    "df.describe()"
   ]
  },
  {
   "cell_type": "code",
   "execution_count": 5,
   "metadata": {
    "collapsed": false
   },
   "outputs": [
    {
     "data": {
      "text/plain": [
       "<matplotlib.axes._subplots.AxesSubplot at 0x7fd5046b6588>"
      ]
     },
     "execution_count": 5,
     "metadata": {},
     "output_type": "execute_result"
    },
    {
     "data": {
      "image/png": "[encoded data removed]",
      "text/plain": [
       "<matplotlib.figure.Figure at 0x7fd5046b2c50>"
      ]
     },
     "metadata": {},
     "output_type": "display_data"
    }
   ],
   "source": [
    "df.plot()"
   ]
  },
  {
   "cell_type": "code",
   "execution_count": 9,
   "metadata": {
    "collapsed": false
   },
   "outputs": [
    {
     "data": {
      "text/plain": [
       "<matplotlib.axes._subplots.AxesSubplot at 0x7fd4d67b1080>"
      ]
     },
     "execution_count": 9,
     "metadata": {},
     "output_type": "execute_result"
    },
    {
     "data": {
      "image/png": "[encoded data removed]",
      "text/plain": [
       "<matplotlib.figure.Figure at 0x7fd4d68c1438>"
      ]
     },
     "metadata": {},
     "output_type": "display_data"
    }
   ],
   "source": [
    "# Group the data by month, and take the mean for each group (i.e. each month)\n",
    "df.resample('D').max().plot(kind=\"bar\")"
   ]
  }
 ],
 "metadata": {
  "kernelspec": {
   "display_name": "Python 3",
   "language": "python",
   "name": "python3"
  },
  "language_info": {
   "codemirror_mode": {
    "name": "ipython",
    "version": 3
   },
   "file_extension": ".py",
   "mimetype": "text/x-python",
   "name": "python",
   "nbconvert_exporter": "python",
   "pygments_lexer": "ipython3",
   "version": "3.6.0"
  }
 },
 "nbformat": 4,
 "nbformat_minor": 2
}
